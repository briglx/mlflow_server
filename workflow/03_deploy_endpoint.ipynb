{
 "cells": [
  {
   "cell_type": "markdown",
   "metadata": {},
   "source": [
    "## Deploy custom container to AML endpoint"
   ]
  },
  {
   "cell_type": "code",
   "execution_count": 1,
   "metadata": {},
   "outputs": [],
   "source": [
    "# import required libraries\n",
    "from azure.ai.ml import MLClient\n",
    "from azure.ai.ml.entities import (\n",
    "    ManagedOnlineEndpoint,\n",
    "    ManagedOnlineDeployment,\n",
    "    Model,\n",
    "    Environment,\n",
    "    CodeConfiguration,\n",
    ")\n",
    "import os\n",
    "from pathlib import Path\n",
    "from dotenv import load_dotenv\n",
    "from azure.identity import DefaultAzureCredential, ClientSecretCredential"
   ]
  },
  {
   "cell_type": "code",
   "execution_count": 2,
   "metadata": {},
   "outputs": [
    {
     "data": {
      "text/plain": [
       "<function dotenv.main.load_dotenv(dotenv_path: Union[str, ForwardRef('os.PathLike[str]'), NoneType] = None, stream: Optional[IO[str]] = None, verbose: bool = False, override: bool = False, interpolate: bool = True, encoding: Optional[str] = 'utf-8') -> bool>"
      ]
     },
     "execution_count": 2,
     "metadata": {},
     "output_type": "execute_result"
    }
   ],
   "source": [
    "load_dotenv"
   ]
  },
  {
   "cell_type": "code",
   "execution_count": 3,
   "metadata": {},
   "outputs": [
    {
     "name": "stdout",
     "output_type": "stream",
     "text": [
      "/workspaces/mlflow_server/online_endpoint\n"
     ]
    },
    {
     "data": {
      "text/plain": [
       "'/var/azureml-app/azureml-models/tfserving-mounted/1'"
      ]
     },
     "execution_count": 3,
     "metadata": {},
     "output_type": "execute_result"
    }
   ],
   "source": [
    "AZURE_TENANT_ID = os.environ.get(\"AZURE_TENANT_ID\")\n",
    "AZURE_SUBSCRIPTION_ID = os.environ.get(\"AZURE_SUBSCRIPTION_ID\")\n",
    "AZURE_CLIENT_ID = os.environ.get(\"AZURE_CLIENT_ID\")\n",
    "AZURE_CLIENT_SECRET = os.environ.get(\"AZURE_CLIENT_SECRET\")\n",
    "AZURE_ML_RESOURCE_GROUP = os.environ.get(\"AZURE_ML_RESOURCE_GROUP\")\n",
    "AZURE_ML_WORKSPACE = os.environ.get(\"AZURE_ML_WORKSPACE\")\n",
    "\n",
    "PROJECT_PATH = os.environ.get(\"PROJECT_PATH\")\n",
    "BASE_PATH = os.path.join(PROJECT_PATH, os.environ.get(\"BASE_PATH\"))\n",
    "AML_MODEL_NAME = os.environ.get(\"AML_MODEL_NAME\")\n",
    "ENDPOINT_MODEL_NAME = os.environ.get(\"ENDPOINT_MODEL_NAME\")\n",
    "MODEL_BASE_PATH = os.environ.get(\"MODEL_BASE_PATH\")\n",
    "\n",
    "print(BASE_PATH)\n",
    "# endpoint_path = os.path.join(PROJECT_PATH, BASE_PATH)\n",
    "model_path = os.path.join(MODEL_BASE_PATH, AML_MODEL_NAME, \"1\")\n",
    "model_path"
   ]
  },
  {
   "cell_type": "code",
   "execution_count": 4,
   "metadata": {},
   "outputs": [],
   "source": [
    "credential = DefaultAzureCredential()\n",
    "\n",
    "credential = ClientSecretCredential(\n",
    "    tenant_id=AZURE_TENANT_ID,\n",
    "    client_id=AZURE_CLIENT_ID,\n",
    "    client_secret=AZURE_CLIENT_SECRET,\n",
    ")\n",
    "\n",
    "ml_client = MLClient(\n",
    "    credential, AZURE_SUBSCRIPTION_ID, AZURE_ML_RESOURCE_GROUP, AZURE_ML_WORKSPACE\n",
    ")"
   ]
  },
  {
   "cell_type": "code",
   "execution_count": 9,
   "metadata": {},
   "outputs": [
    {
     "name": "stdout",
     "output_type": "stream",
     "text": [
      "endpoint-10182330108685\n"
     ]
    }
   ],
   "source": [
    "# Creating a unique endpoint name with current datetime to avoid conflicts\n",
    "import datetime\n",
    "\n",
    "model_name=\"dev.ml_team.iris_classifier\"\n",
    "model_version=1\n",
    "base_image=\"mlflow\"\n",
    "image=f\"{base_image}_{model_name}_v{model_version}\"\n",
    "version=\"2024.10.1.dev20241018T2105\"\n",
    "image_name=f\"{image}:{version}\"\n",
    "online_endpoint_name = f\"endpoint-\" + datetime.datetime.now().strftime(\"%m%d%H%M%f\")\n",
    "\n",
    "print(online_endpoint_name)\n",
    "\n",
    "# create an online endpoint\n",
    "endpoint = ManagedOnlineEndpoint(\n",
    "    name=online_endpoint_name,\n",
    "    description=f\"Enpoint for {image_name}\",\n",
    "    auth_mode=\"key\",\n",
    "    tags={\"model_name\": model_name, \"model_version\": model_version, \"image_name\": image, \"image_version\": version},\n",
    ")"
   ]
  },
  {
   "cell_type": "code",
   "execution_count": 10,
   "metadata": {},
   "outputs": [
    {
     "data": {
      "text/plain": [
       "ManagedOnlineEndpoint({'public_network_access': 'Enabled', 'provisioning_state': 'Succeeded', 'scoring_uri': 'https://endpoint-10182330108685.westus3.inference.ml.azure.com/score', 'openapi_uri': 'https://endpoint-10182330108685.westus3.inference.ml.azure.com/swagger.json', 'name': 'endpoint-10182330108685', 'description': 'Enpoint for mlflow_dev.ml_team.iris_classifier_v1:2024.10.1.dev20241018T2105', 'tags': {'model_name': 'dev.ml_team.iris_classifier', 'model_version': '1', 'image_name': 'mlflow_dev.ml_team.iris_classifier_v1', 'image_version': '2024.10.1.dev20241018T2105'}, 'properties': {'createdBy': 'a7cbde40-3051-4d3c-936d-5b5acf0f41a6', 'createdAt': '2024-10-18T23:30:49.837789+0000', 'lastModifiedAt': '2024-10-18T23:30:49.837789+0000', 'azureml.onlineendpointid': '/subscriptions/b0c05537-02c7-4099-b9af-ab0702d33d39/resourcegroups/blxaml/providers/microsoft.machinelearningservices/workspaces/blxaml/onlineendpoints/endpoint-10182330108685', 'AzureAsyncOperationUri': 'https://management.azure.com/subscriptions/b0c05537-02c7-4099-b9af-ab0702d33d39/providers/Microsoft.MachineLearningServices/locations/westus3/mfeOperationsStatus/oeidp:e0eb4e47-1b18-4d39-b2a6-82b28e64be16:d23fdca9-940a-41a7-a93d-f3e30f67942c?api-version=2022-02-01-preview'}, 'print_as_yaml': False, 'id': '/subscriptions/b0c05537-02c7-4099-b9af-ab0702d33d39/resourceGroups/blxaml/providers/Microsoft.MachineLearningServices/workspaces/blxaml/onlineEndpoints/endpoint-10182330108685', 'Resource__source_path': '', 'base_path': '/workspaces/mlflow_server/workflow', 'creation_context': None, 'serialize': <msrest.serialization.Serializer object at 0x7f54f9768c80>, 'auth_mode': 'key', 'location': 'westus3', 'identity': <azure.ai.ml.entities._credentials.IdentityConfiguration object at 0x7f5500aba900>, 'traffic': {}, 'mirror_traffic': {}, 'kind': 'Managed'})"
      ]
     },
     "execution_count": 10,
     "metadata": {},
     "output_type": "execute_result"
    }
   ],
   "source": [
    "# Create the endpoint\n",
    "ml_client.begin_create_or_update(endpoint).result()"
   ]
  },
  {
   "cell_type": "code",
   "execution_count": 11,
   "metadata": {},
   "outputs": [
    {
     "data": {
      "text/plain": [
       "'202410182249986610'"
      ]
     },
     "execution_count": 11,
     "metadata": {},
     "output_type": "execute_result"
    }
   ],
   "source": [
    "# create a blue deployment\n",
    "model = ml_client.models.get(name=\"credit_defaults_model\", version=\"4\")\n",
    "# model = Model(name=\"dev.mlflow-sample-model-test_script\", version=\"4\")\n",
    "\n",
    "env = Environment(\n",
    "    image=\"crcommon150077523.azurecr.io/aimodelserving/dev.mlflow-sample-model-test_script_v4:2024.7.1.dev20240723T1400\",\n",
    "    inference_config={\n",
    "        \"liveness_route\": {\"port\": 5000, \"path\": \"/version\"},\n",
    "        \"readiness_route\": {\"port\": 5000, \"path\": \"/version\"},\n",
    "        \"scoring_route\": {\"port\": 5000, \"path\": \"/invocations\"},\n",
    "    },\n",
    ")\n",
    "\n",
    "blue_deployment = ManagedOnlineDeployment(\n",
    "    name=\"blue\",\n",
    "    endpoint_name=online_endpoint_name,\n",
    "    model=model,\n",
    "    environment=env,\n",
    "    instance_type=\"Standard_F2s_v2\",\n",
    "    instance_count=1,\n",
    ")"
   ]
  },
  {
   "cell_type": "code",
   "execution_count": null,
   "metadata": {},
   "outputs": [],
   "source": []
  }
 ],
 "metadata": {
  "kernelspec": {
   "display_name": "Python 3",
   "language": "python",
   "name": "python3"
  },
  "language_info": {
   "codemirror_mode": {
    "name": "ipython",
    "version": 3
   },
   "file_extension": ".py",
   "mimetype": "text/x-python",
   "name": "python",
   "nbconvert_exporter": "python",
   "pygments_lexer": "ipython3",
   "version": "3.12.3"
  }
 },
 "nbformat": 4,
 "nbformat_minor": 2
}
