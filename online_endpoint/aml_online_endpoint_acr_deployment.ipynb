{
 "cells": [
  {
   "cell_type": "code",
   "execution_count": 1,
   "metadata": {},
   "outputs": [
    {
     "data": {
      "text/plain": [
       "<function dotenv.main.load_dotenv(dotenv_path: Union[str, ForwardRef('os.PathLike[str]'), NoneType] = None, stream: Optional[IO[str]] = None, verbose: bool = False, override: bool = False, interpolate: bool = True, encoding: Optional[str] = 'utf-8') -> bool>"
      ]
     },
     "execution_count": 1,
     "metadata": {},
     "output_type": "execute_result"
    }
   ],
   "source": [
    "# import required libraries\n",
    "from azure.ai.ml import MLClient\n",
    "from azure.ai.ml.entities import (\n",
    "   ManagedOnlineEndpoint,\n",
    "   ManagedOnlineDeployment,\n",
    "   Model,\n",
    "   Environment,\n",
    "   CodeConfiguration,\n",
    ")\n",
    "import os\n",
    "from azure.identity import DefaultAzureCredential, ClientSecretCredential\n",
    "from dotenv import load_dotenv\n",
    "\n",
    "load_dotenv"
   ]
  },
  {
   "cell_type": "code",
   "execution_count": 2,
   "metadata": {},
   "outputs": [
    {
     "name": "stdout",
     "output_type": "stream",
     "text": [
      "16b3c013-d300-468d-ac64-7eda0820b6d3 0319a625-aacd-4030-af25-09981016d2f1 rg_aml blx_aml\n"
     ]
    }
   ],
   "source": [
    "# General\n",
    "PROJECT_PATH = os.environ.get(\"PROJECT_PATH\")\n",
    "\n",
    "# Azure General\n",
    "AZURE_TENANT_ID = os.environ.get(\"AZURE_TENANT_ID\")\n",
    "AZURE_SUBSCRIPTION_ID = os.environ.get(\"AZURE_SUBSCRIPTION_ID\")\n",
    "AZURE_CLIENT_ID = os.environ.get(\"AZURE_CLIENT_ID\")\n",
    "AZURE_CLIENT_SECRET = os.environ.get(\"AZURE_CLIENT_SECRET\")\n",
    "\n",
    "# AML\n",
    "AZURE_ML_RESOURCE_GROUP = os.environ.get(\"AZURE_ML_RESOURCE_GROUP\")\n",
    "AZURE_ML_WORKSPACE = os.environ.get(\"AZURE_ML_WORKSPACE\")\n",
    "\n",
    "ENDPOINT_MODEL_NAME = os.environ.get(\"ENDPOINT_MODEL_NAME\")\n",
    "\n",
    "print(AZURE_TENANT_ID, AZURE_CLIENT_ID, AZURE_ML_RESOURCE_GROUP, AZURE_ML_WORKSPACE)"
   ]
  },
  {
   "cell_type": "code",
   "execution_count": 3,
   "metadata": {},
   "outputs": [],
   "source": [
    "# credential = DefaultAzureCredential()\n",
    "# if not credential:\n",
    "credential = ClientSecretCredential(\n",
    "    tenant_id=AZURE_TENANT_ID,\n",
    "    client_id=AZURE_CLIENT_ID,\n",
    "    client_secret=AZURE_CLIENT_SECRET,\n",
    ")\n",
    "    \n",
    "ml_client = MLClient(\n",
    "   credential, AZURE_SUBSCRIPTION_ID, AZURE_ML_RESOURCE_GROUP, AZURE_ML_WORKSPACE\n",
    ")"
   ]
  },
  {
   "cell_type": "code",
   "execution_count": 4,
   "metadata": {},
   "outputs": [],
   "source": [
    "# Creating a unique endpoint name with current datetime to avoid conflicts\n",
    "import datetime\n",
    "\n",
    "online_endpoint_name = \"endpoint-\" + datetime.datetime.now().strftime(\"%y%m%d%H%M%f\")\n",
    "\n",
    "# create an online endpoint\n",
    "endpoint = ManagedOnlineEndpoint(\n",
    "    name=online_endpoint_name,\n",
    "    description=\"this is a sample online endpoint\",\n",
    "    auth_mode=\"key\",\n",
    "    tags={\"foo\": \"bar\"},\n",
    ")"
   ]
  },
  {
   "cell_type": "code",
   "execution_count": 8,
   "metadata": {},
   "outputs": [],
   "source": [
    "# create a blue deployment\n",
    "model = ml_client.models.get(name=\"dev.mlflow-sample-model-test_script\", version=\"4\")\n",
    "# model = Model(name=\"dev.mlflow-sample-model-test_script\", version=\"4\")\n",
    "\n",
    "env = Environment(\n",
    "    image=\"crcommon150077523.azurecr.io/aimodelserving/dev.mlflow-sample-model-test_script_v4:2024.7.1.dev20240723T1400\",\n",
    "    inference_config={\n",
    "        \"liveness_route\": {\"port\": 5000, \"path\": \"/version\"},\n",
    "        \"readiness_route\": {\"port\": 5000, \"path\": \"/version\"},\n",
    "        \"scoring_route\": {\"port\": 5000, \"path\": \"/invocations\"},\n",
    "    },\n",
    ")\n",
    "\n",
    "blue_deployment = ManagedOnlineDeployment(\n",
    "    name=\"blue\",\n",
    "    endpoint_name=online_endpoint_name,\n",
    "    model=model,\n",
    "    environment=env,\n",
    "    instance_type=\"Standard_F2s_v2\",\n",
    "    instance_count=1,\n",
    ")"
   ]
  },
  {
   "cell_type": "code",
   "execution_count": 6,
   "metadata": {},
   "outputs": [
    {
     "data": {
      "text/plain": [
       "<azure.core.polling._poller.LROPoller at 0x7f5b142cd6f0>"
      ]
     },
     "execution_count": 6,
     "metadata": {},
     "output_type": "execute_result"
    }
   ],
   "source": [
    "ml_client.begin_create_or_update(endpoint)"
   ]
  },
  {
   "cell_type": "code",
   "execution_count": 9,
   "metadata": {},
   "outputs": [
    {
     "name": "stderr",
     "output_type": "stream",
     "text": [
      "Check: endpoint endpoint-2407241729987754 exists\n"
     ]
    },
    {
     "ename": "ModelException",
     "evalue": "Error with model: 'NoneType' object has no attribute 'as_posix'",
     "output_type": "error",
     "traceback": [
      "\u001b[0;31m---------------------------------------------------------------------------\u001b[0m",
      "\u001b[0;31mAttributeError\u001b[0m                            Traceback (most recent call last)",
      "File \u001b[0;32m~/src/mlflow_server/.venv/lib/python3.10/site-packages/azure/ai/ml/operations/_operation_orchestrator.py:340\u001b[0m, in \u001b[0;36mOperationOrchestrator._get_model_arm_id\u001b[0;34m(self, model, register_asset)\u001b[0m\n\u001b[1;32m    339\u001b[0m         \u001b[38;5;28;01mreturn\u001b[39;00m model\u001b[38;5;241m.\u001b[39mid\n\u001b[0;32m--> 340\u001b[0m     \u001b[38;5;28;01mreturn\u001b[39;00m \u001b[38;5;28;43mself\u001b[39;49m\u001b[38;5;241;43m.\u001b[39;49m\u001b[43m_model\u001b[49m\u001b[38;5;241;43m.\u001b[39;49m\u001b[43mcreate_or_update\u001b[49m\u001b[43m(\u001b[49m\u001b[43mmodel\u001b[49m\u001b[43m)\u001b[49m\u001b[38;5;241m.\u001b[39mid  \u001b[38;5;66;03m# type: ignore[attr-defined]\u001b[39;00m\n\u001b[1;32m    341\u001b[0m uploaded_model, _ \u001b[38;5;241m=\u001b[39m _check_and_upload_path(\n\u001b[1;32m    342\u001b[0m     artifact\u001b[38;5;241m=\u001b[39mmodel,\n\u001b[1;32m    343\u001b[0m     asset_operations\u001b[38;5;241m=\u001b[39m\u001b[38;5;28mself\u001b[39m\u001b[38;5;241m.\u001b[39m_model,  \u001b[38;5;66;03m# type: ignore[arg-type]\u001b[39;00m\n\u001b[1;32m    344\u001b[0m     artifact_type\u001b[38;5;241m=\u001b[39mErrorTarget\u001b[38;5;241m.\u001b[39mMODEL,\n\u001b[1;32m    345\u001b[0m     show_progress\u001b[38;5;241m=\u001b[39m\u001b[38;5;28mself\u001b[39m\u001b[38;5;241m.\u001b[39m_operation_config\u001b[38;5;241m.\u001b[39mshow_progress,\n\u001b[1;32m    346\u001b[0m )\n",
      "File \u001b[0;32m~/src/mlflow_server/.venv/lib/python3.10/site-packages/azure/ai/ml/_telemetry/activity.py:289\u001b[0m, in \u001b[0;36mmonitor_with_activity.<locals>.monitor.<locals>.wrapper\u001b[0;34m(*args, **kwargs)\u001b[0m\n\u001b[1;32m    286\u001b[0m         \u001b[38;5;28;01mwith\u001b[39;00m log_activity(\n\u001b[1;32m    287\u001b[0m             logger\u001b[38;5;241m.\u001b[39mpackage_logger, activity_name \u001b[38;5;129;01mor\u001b[39;00m f\u001b[38;5;241m.\u001b[39m\u001b[38;5;18m__name__\u001b[39m, activity_type, custom_dimensions\n\u001b[1;32m    288\u001b[0m         ):\n\u001b[0;32m--> 289\u001b[0m             \u001b[38;5;28;01mreturn\u001b[39;00m \u001b[43mf\u001b[49m\u001b[43m(\u001b[49m\u001b[38;5;241;43m*\u001b[39;49m\u001b[43margs\u001b[49m\u001b[43m,\u001b[49m\u001b[43m \u001b[49m\u001b[38;5;241;43m*\u001b[39;49m\u001b[38;5;241;43m*\u001b[39;49m\u001b[43mkwargs\u001b[49m\u001b[43m)\u001b[49m\n\u001b[1;32m    290\u001b[0m \u001b[38;5;28;01melif\u001b[39;00m \u001b[38;5;28mhasattr\u001b[39m(logger, \u001b[38;5;124m\"\u001b[39m\u001b[38;5;124mpackage_logger\u001b[39m\u001b[38;5;124m\"\u001b[39m):\n",
      "File \u001b[0;32m~/src/mlflow_server/.venv/lib/python3.10/site-packages/azure/ai/ml/operations/_model_operations.py:295\u001b[0m, in \u001b[0;36mModelOperations.create_or_update\u001b[0;34m(self, model)\u001b[0m\n\u001b[1;32m    294\u001b[0m \u001b[38;5;28;01melse\u001b[39;00m:\n\u001b[0;32m--> 295\u001b[0m     \u001b[38;5;28;01mraise\u001b[39;00m ex\n",
      "File \u001b[0;32m~/src/mlflow_server/.venv/lib/python3.10/site-packages/azure/ai/ml/operations/_model_operations.py:249\u001b[0m, in \u001b[0;36mModelOperations.create_or_update\u001b[0;34m(self, model)\u001b[0m\n\u001b[1;32m    248\u001b[0m model\u001b[38;5;241m.\u001b[39mpath \u001b[38;5;241m=\u001b[39m resolve_short_datastore_url(model\u001b[38;5;241m.\u001b[39mpath, \u001b[38;5;28mself\u001b[39m\u001b[38;5;241m.\u001b[39m_operation_scope)  \u001b[38;5;66;03m# type: ignore\u001b[39;00m\n\u001b[0;32m--> 249\u001b[0m \u001b[43mvalidate_ml_flow_folder\u001b[49m\u001b[43m(\u001b[49m\u001b[43mmodel\u001b[49m\u001b[38;5;241;43m.\u001b[39;49m\u001b[43mpath\u001b[49m\u001b[43m,\u001b[49m\u001b[43m \u001b[49m\u001b[43mmodel\u001b[49m\u001b[38;5;241;43m.\u001b[39;49m\u001b[43mtype\u001b[49m\u001b[43m)\u001b[49m  \u001b[38;5;66;03m# type: ignore\u001b[39;00m\n\u001b[1;32m    250\u001b[0m model_version_resource \u001b[38;5;241m=\u001b[39m model\u001b[38;5;241m.\u001b[39m_to_rest_object()\n",
      "File \u001b[0;32m~/src/mlflow_server/.venv/lib/python3.10/site-packages/azure/ai/ml/_utils/utils.py:564\u001b[0m, in \u001b[0;36mvalidate_ml_flow_folder\u001b[0;34m(path, model_type)\u001b[0m\n\u001b[1;32m    563\u001b[0m \u001b[38;5;28;01mif\u001b[39;00m \u001b[38;5;129;01mnot\u001b[39;00m \u001b[38;5;28misinstance\u001b[39m(path, \u001b[38;5;28mstr\u001b[39m):\n\u001b[0;32m--> 564\u001b[0m     path \u001b[38;5;241m=\u001b[39m \u001b[43mpath\u001b[49m\u001b[38;5;241;43m.\u001b[39;49m\u001b[43mas_posix\u001b[49m()\n\u001b[1;32m    565\u001b[0m path_array \u001b[38;5;241m=\u001b[39m path\u001b[38;5;241m.\u001b[39msplit(\u001b[38;5;124m\"\u001b[39m\u001b[38;5;124m/\u001b[39m\u001b[38;5;124m\"\u001b[39m)\n",
      "\u001b[0;31mAttributeError\u001b[0m: 'NoneType' object has no attribute 'as_posix'",
      "\nThe above exception was the direct cause of the following exception:\n",
      "\u001b[0;31mModelException\u001b[0m                            Traceback (most recent call last)",
      "Cell \u001b[0;32mIn[9], line 1\u001b[0m\n\u001b[0;32m----> 1\u001b[0m \u001b[43mml_client\u001b[49m\u001b[38;5;241;43m.\u001b[39;49m\u001b[43mbegin_create_or_update\u001b[49m\u001b[43m(\u001b[49m\u001b[43mblue_deployment\u001b[49m\u001b[43m)\u001b[49m\n",
      "File \u001b[0;32m~/src/mlflow_server/.venv/lib/python3.10/site-packages/azure/ai/ml/_ml_client.py:1249\u001b[0m, in \u001b[0;36mMLClient.begin_create_or_update\u001b[0;34m(self, entity, **kwargs)\u001b[0m\n\u001b[1;32m   1230\u001b[0m \u001b[38;5;28;01mdef\u001b[39;00m \u001b[38;5;21mbegin_create_or_update\u001b[39m(\n\u001b[1;32m   1231\u001b[0m     \u001b[38;5;28mself\u001b[39m,\n\u001b[1;32m   1232\u001b[0m     entity: R,\n\u001b[1;32m   1233\u001b[0m     \u001b[38;5;241m*\u001b[39m\u001b[38;5;241m*\u001b[39mkwargs,\n\u001b[1;32m   1234\u001b[0m ) \u001b[38;5;241m-\u001b[39m\u001b[38;5;241m>\u001b[39m LROPoller[R]:\n\u001b[1;32m   1235\u001b[0m \u001b[38;5;250m    \u001b[39m\u001b[38;5;124;03m\"\"\"Creates or updates an Azure ML resource asynchronously.\u001b[39;00m\n\u001b[1;32m   1236\u001b[0m \n\u001b[1;32m   1237\u001b[0m \u001b[38;5;124;03m    :param entity: The resource to create or update.\u001b[39;00m\n\u001b[0;32m   (...)\u001b[0m\n\u001b[1;32m   1246\u001b[0m \u001b[38;5;124;03m        , ~azure.ai.ml.entities.BatchEndpoint, ~azure.ai.ml.entities.Schedule]]\u001b[39;00m\n\u001b[1;32m   1247\u001b[0m \u001b[38;5;124;03m    \"\"\"\u001b[39;00m\n\u001b[0;32m-> 1249\u001b[0m     \u001b[38;5;28;01mreturn\u001b[39;00m \u001b[43m_begin_create_or_update\u001b[49m\u001b[43m(\u001b[49m\u001b[43mentity\u001b[49m\u001b[43m,\u001b[49m\u001b[43m \u001b[49m\u001b[38;5;28;43mself\u001b[39;49m\u001b[38;5;241;43m.\u001b[39;49m\u001b[43m_operation_container\u001b[49m\u001b[38;5;241;43m.\u001b[39;49m\u001b[43mall_operations\u001b[49m\u001b[43m,\u001b[49m\u001b[43m \u001b[49m\u001b[38;5;241;43m*\u001b[39;49m\u001b[38;5;241;43m*\u001b[39;49m\u001b[43mkwargs\u001b[49m\u001b[43m)\u001b[49m\n",
      "File \u001b[0;32m/usr/lib/python3.10/functools.py:889\u001b[0m, in \u001b[0;36msingledispatch.<locals>.wrapper\u001b[0;34m(*args, **kw)\u001b[0m\n\u001b[1;32m    885\u001b[0m \u001b[38;5;28;01mif\u001b[39;00m \u001b[38;5;129;01mnot\u001b[39;00m args:\n\u001b[1;32m    886\u001b[0m     \u001b[38;5;28;01mraise\u001b[39;00m \u001b[38;5;167;01mTypeError\u001b[39;00m(\u001b[38;5;124mf\u001b[39m\u001b[38;5;124m'\u001b[39m\u001b[38;5;132;01m{\u001b[39;00mfuncname\u001b[38;5;132;01m}\u001b[39;00m\u001b[38;5;124m requires at least \u001b[39m\u001b[38;5;124m'\u001b[39m\n\u001b[1;32m    887\u001b[0m                     \u001b[38;5;124m'\u001b[39m\u001b[38;5;124m1 positional argument\u001b[39m\u001b[38;5;124m'\u001b[39m)\n\u001b[0;32m--> 889\u001b[0m \u001b[38;5;28;01mreturn\u001b[39;00m \u001b[43mdispatch\u001b[49m\u001b[43m(\u001b[49m\u001b[43margs\u001b[49m\u001b[43m[\u001b[49m\u001b[38;5;241;43m0\u001b[39;49m\u001b[43m]\u001b[49m\u001b[38;5;241;43m.\u001b[39;49m\u001b[38;5;18;43m__class__\u001b[39;49m\u001b[43m)\u001b[49m\u001b[43m(\u001b[49m\u001b[38;5;241;43m*\u001b[39;49m\u001b[43margs\u001b[49m\u001b[43m,\u001b[49m\u001b[43m \u001b[49m\u001b[38;5;241;43m*\u001b[39;49m\u001b[38;5;241;43m*\u001b[39;49m\u001b[43mkw\u001b[49m\u001b[43m)\u001b[49m\n",
      "File \u001b[0;32m~/src/mlflow_server/.venv/lib/python3.10/site-packages/azure/ai/ml/_ml_client.py:1355\u001b[0m, in \u001b[0;36m_\u001b[0;34m(entity, operations, *args, **kwargs)\u001b[0m\n\u001b[1;32m   1352\u001b[0m \u001b[38;5;129m@_begin_create_or_update\u001b[39m\u001b[38;5;241m.\u001b[39mregister(OnlineDeployment)\n\u001b[1;32m   1353\u001b[0m \u001b[38;5;28;01mdef\u001b[39;00m \u001b[38;5;21m_\u001b[39m(entity: OnlineDeployment, operations, \u001b[38;5;241m*\u001b[39margs, \u001b[38;5;241m*\u001b[39m\u001b[38;5;241m*\u001b[39mkwargs):\n\u001b[1;32m   1354\u001b[0m     module_logger\u001b[38;5;241m.\u001b[39mdebug(\u001b[38;5;124m\"\u001b[39m\u001b[38;5;124mCreating or updating online_deployments\u001b[39m\u001b[38;5;124m\"\u001b[39m)\n\u001b[0;32m-> 1355\u001b[0m     \u001b[38;5;28;01mreturn\u001b[39;00m \u001b[43moperations\u001b[49m\u001b[43m[\u001b[49m\u001b[43mAzureMLResourceType\u001b[49m\u001b[38;5;241;43m.\u001b[39;49m\u001b[43mONLINE_DEPLOYMENT\u001b[49m\u001b[43m]\u001b[49m\u001b[38;5;241;43m.\u001b[39;49m\u001b[43mbegin_create_or_update\u001b[49m\u001b[43m(\u001b[49m\u001b[43mentity\u001b[49m\u001b[43m,\u001b[49m\u001b[43m \u001b[49m\u001b[38;5;241;43m*\u001b[39;49m\u001b[38;5;241;43m*\u001b[39;49m\u001b[43mkwargs\u001b[49m\u001b[43m)\u001b[49m\n",
      "File \u001b[0;32m~/src/mlflow_server/.venv/lib/python3.10/site-packages/azure/core/tracing/decorator.py:94\u001b[0m, in \u001b[0;36mdistributed_trace.<locals>.decorator.<locals>.wrapper_use_tracer\u001b[0;34m(*args, **kwargs)\u001b[0m\n\u001b[1;32m     92\u001b[0m span_impl_type \u001b[38;5;241m=\u001b[39m settings\u001b[38;5;241m.\u001b[39mtracing_implementation()\n\u001b[1;32m     93\u001b[0m \u001b[38;5;28;01mif\u001b[39;00m span_impl_type \u001b[38;5;129;01mis\u001b[39;00m \u001b[38;5;28;01mNone\u001b[39;00m:\n\u001b[0;32m---> 94\u001b[0m     \u001b[38;5;28;01mreturn\u001b[39;00m \u001b[43mfunc\u001b[49m\u001b[43m(\u001b[49m\u001b[38;5;241;43m*\u001b[39;49m\u001b[43margs\u001b[49m\u001b[43m,\u001b[49m\u001b[43m \u001b[49m\u001b[38;5;241;43m*\u001b[39;49m\u001b[38;5;241;43m*\u001b[39;49m\u001b[43mkwargs\u001b[49m\u001b[43m)\u001b[49m\n\u001b[1;32m     96\u001b[0m \u001b[38;5;66;03m# Merge span is parameter is set, but only if no explicit parent are passed\u001b[39;00m\n\u001b[1;32m     97\u001b[0m \u001b[38;5;28;01mif\u001b[39;00m merge_span \u001b[38;5;129;01mand\u001b[39;00m \u001b[38;5;129;01mnot\u001b[39;00m passed_in_parent:\n",
      "File \u001b[0;32m~/src/mlflow_server/.venv/lib/python3.10/site-packages/azure/ai/ml/_telemetry/activity.py:289\u001b[0m, in \u001b[0;36mmonitor_with_activity.<locals>.monitor.<locals>.wrapper\u001b[0;34m(*args, **kwargs)\u001b[0m\n\u001b[1;32m    285\u001b[0m     \u001b[38;5;28;01mwith\u001b[39;00m tracer\u001b[38;5;241m.\u001b[39mspan():\n\u001b[1;32m    286\u001b[0m         \u001b[38;5;28;01mwith\u001b[39;00m log_activity(\n\u001b[1;32m    287\u001b[0m             logger\u001b[38;5;241m.\u001b[39mpackage_logger, activity_name \u001b[38;5;129;01mor\u001b[39;00m f\u001b[38;5;241m.\u001b[39m\u001b[38;5;18m__name__\u001b[39m, activity_type, custom_dimensions\n\u001b[1;32m    288\u001b[0m         ):\n\u001b[0;32m--> 289\u001b[0m             \u001b[38;5;28;01mreturn\u001b[39;00m \u001b[43mf\u001b[49m\u001b[43m(\u001b[49m\u001b[38;5;241;43m*\u001b[39;49m\u001b[43margs\u001b[49m\u001b[43m,\u001b[49m\u001b[43m \u001b[49m\u001b[38;5;241;43m*\u001b[39;49m\u001b[38;5;241;43m*\u001b[39;49m\u001b[43mkwargs\u001b[49m\u001b[43m)\u001b[49m\n\u001b[1;32m    290\u001b[0m \u001b[38;5;28;01melif\u001b[39;00m \u001b[38;5;28mhasattr\u001b[39m(logger, \u001b[38;5;124m\"\u001b[39m\u001b[38;5;124mpackage_logger\u001b[39m\u001b[38;5;124m\"\u001b[39m):\n\u001b[1;32m    291\u001b[0m     \u001b[38;5;28;01mwith\u001b[39;00m log_activity(logger\u001b[38;5;241m.\u001b[39mpackage_logger, activity_name \u001b[38;5;129;01mor\u001b[39;00m f\u001b[38;5;241m.\u001b[39m\u001b[38;5;18m__name__\u001b[39m, activity_type, custom_dimensions):\n",
      "File \u001b[0;32m~/src/mlflow_server/.venv/lib/python3.10/site-packages/azure/ai/ml/operations/_online_deployment_operations.py:218\u001b[0m, in \u001b[0;36mOnlineDeploymentOperations.begin_create_or_update\u001b[0;34m(self, deployment, local, vscode_debug, skip_script_validation, local_enable_gpu, **kwargs)\u001b[0m\n\u001b[1;32m    216\u001b[0m     log_and_raise_error(ex)\n\u001b[1;32m    217\u001b[0m \u001b[38;5;28;01melse\u001b[39;00m:\n\u001b[0;32m--> 218\u001b[0m     \u001b[38;5;28;01mraise\u001b[39;00m ex\n",
      "File \u001b[0;32m~/src/mlflow_server/.venv/lib/python3.10/site-packages/azure/ai/ml/operations/_online_deployment_operations.py:186\u001b[0m, in \u001b[0;36mOnlineDeploymentOperations.begin_create_or_update\u001b[0;34m(self, deployment, local, vscode_debug, skip_script_validation, local_enable_gpu, **kwargs)\u001b[0m\n\u001b[1;32m    183\u001b[0m \u001b[38;5;28;01mif\u001b[39;00m deployment\u001b[38;5;241m.\u001b[39mdata_collector:\n\u001b[1;32m    184\u001b[0m     \u001b[38;5;28mself\u001b[39m\u001b[38;5;241m.\u001b[39m_register_collection_data_assets(deployment\u001b[38;5;241m=\u001b[39mdeployment)\n\u001b[0;32m--> 186\u001b[0m \u001b[43mupload_dependencies\u001b[49m\u001b[43m(\u001b[49m\u001b[43mdeployment\u001b[49m\u001b[43m,\u001b[49m\u001b[43m \u001b[49m\u001b[43morchestrators\u001b[49m\u001b[43m)\u001b[49m\n\u001b[1;32m    187\u001b[0m \u001b[38;5;28;01mtry\u001b[39;00m:\n\u001b[1;32m    188\u001b[0m     location \u001b[38;5;241m=\u001b[39m \u001b[38;5;28mself\u001b[39m\u001b[38;5;241m.\u001b[39m_get_workspace_location()\n",
      "File \u001b[0;32m~/src/mlflow_server/.venv/lib/python3.10/site-packages/azure/ai/ml/_utils/_endpoint_utils.py:171\u001b[0m, in \u001b[0;36mupload_dependencies\u001b[0;34m(deployment, orchestrators)\u001b[0m\n\u001b[1;32m    164\u001b[0m     deployment\u001b[38;5;241m.\u001b[39menvironment \u001b[38;5;241m=\u001b[39m (\n\u001b[1;32m    165\u001b[0m         orchestrators\u001b[38;5;241m.\u001b[39mget_asset_arm_id(deployment\u001b[38;5;241m.\u001b[39menvironment, azureml_type\u001b[38;5;241m=\u001b[39mAzureMLResourceType\u001b[38;5;241m.\u001b[39mENVIRONMENT)\n\u001b[1;32m    166\u001b[0m         \u001b[38;5;28;01mif\u001b[39;00m deployment\u001b[38;5;241m.\u001b[39menvironment\n\u001b[1;32m    167\u001b[0m         \u001b[38;5;28;01melse\u001b[39;00m \u001b[38;5;28;01mNone\u001b[39;00m\n\u001b[1;32m    168\u001b[0m     )\n\u001b[1;32m    169\u001b[0m \u001b[38;5;28;01mif\u001b[39;00m \u001b[38;5;129;01mnot\u001b[39;00m is_registry_id_for_resource(deployment\u001b[38;5;241m.\u001b[39mmodel):\n\u001b[1;32m    170\u001b[0m     deployment\u001b[38;5;241m.\u001b[39mmodel \u001b[38;5;241m=\u001b[39m (\n\u001b[0;32m--> 171\u001b[0m         \u001b[43morchestrators\u001b[49m\u001b[38;5;241;43m.\u001b[39;49m\u001b[43mget_asset_arm_id\u001b[49m\u001b[43m(\u001b[49m\u001b[43mdeployment\u001b[49m\u001b[38;5;241;43m.\u001b[39;49m\u001b[43mmodel\u001b[49m\u001b[43m,\u001b[49m\u001b[43m \u001b[49m\u001b[43mazureml_type\u001b[49m\u001b[38;5;241;43m=\u001b[39;49m\u001b[43mAzureMLResourceType\u001b[49m\u001b[38;5;241;43m.\u001b[39;49m\u001b[43mMODEL\u001b[49m\u001b[43m)\u001b[49m\n\u001b[1;32m    172\u001b[0m         \u001b[38;5;28;01mif\u001b[39;00m deployment\u001b[38;5;241m.\u001b[39mmodel\n\u001b[1;32m    173\u001b[0m         \u001b[38;5;28;01melse\u001b[39;00m \u001b[38;5;28;01mNone\u001b[39;00m\n\u001b[1;32m    174\u001b[0m     )\n\u001b[1;32m    175\u001b[0m \u001b[38;5;28;01mif\u001b[39;00m \u001b[38;5;28misinstance\u001b[39m(deployment, (BatchDeployment, ModelBatchDeployment)) \u001b[38;5;129;01mand\u001b[39;00m deployment\u001b[38;5;241m.\u001b[39mcompute:\n\u001b[1;32m    176\u001b[0m     deployment\u001b[38;5;241m.\u001b[39mcompute \u001b[38;5;241m=\u001b[39m orchestrators\u001b[38;5;241m.\u001b[39mget_asset_arm_id(\n\u001b[1;32m    177\u001b[0m         deployment\u001b[38;5;241m.\u001b[39mcompute, azureml_type\u001b[38;5;241m=\u001b[39mAzureMLResourceType\u001b[38;5;241m.\u001b[39mCOMPUTE\n\u001b[1;32m    178\u001b[0m     )\n",
      "File \u001b[0;32m~/src/mlflow_server/.venv/lib/python3.10/site-packages/azure/ai/ml/operations/_operation_orchestrator.py:242\u001b[0m, in \u001b[0;36mOperationOrchestrator.get_asset_arm_id\u001b[0;34m(self, asset, azureml_type, register_asset, sub_workspace_resource)\u001b[0m\n\u001b[1;32m    240\u001b[0m     result \u001b[38;5;241m=\u001b[39m \u001b[38;5;28mself\u001b[39m\u001b[38;5;241m.\u001b[39m_get_environment_arm_id(asset, register_asset\u001b[38;5;241m=\u001b[39mregister_asset)\n\u001b[1;32m    241\u001b[0m \u001b[38;5;28;01melif\u001b[39;00m azureml_type \u001b[38;5;241m==\u001b[39m AzureMLResourceType\u001b[38;5;241m.\u001b[39mMODEL \u001b[38;5;129;01mand\u001b[39;00m \u001b[38;5;28misinstance\u001b[39m(asset, Model):\n\u001b[0;32m--> 242\u001b[0m     result \u001b[38;5;241m=\u001b[39m \u001b[38;5;28;43mself\u001b[39;49m\u001b[38;5;241;43m.\u001b[39;49m\u001b[43m_get_model_arm_id\u001b[49m\u001b[43m(\u001b[49m\u001b[43masset\u001b[49m\u001b[43m,\u001b[49m\u001b[43m \u001b[49m\u001b[43mregister_asset\u001b[49m\u001b[38;5;241;43m=\u001b[39;49m\u001b[43mregister_asset\u001b[49m\u001b[43m)\u001b[49m\n\u001b[1;32m    243\u001b[0m \u001b[38;5;28;01melif\u001b[39;00m azureml_type \u001b[38;5;241m==\u001b[39m AzureMLResourceType\u001b[38;5;241m.\u001b[39mDATA \u001b[38;5;129;01mand\u001b[39;00m \u001b[38;5;28misinstance\u001b[39m(asset, Data):\n\u001b[1;32m    244\u001b[0m     result \u001b[38;5;241m=\u001b[39m \u001b[38;5;28mself\u001b[39m\u001b[38;5;241m.\u001b[39m_get_data_arm_id(asset, register_asset\u001b[38;5;241m=\u001b[39mregister_asset)\n",
      "File \u001b[0;32m~/src/mlflow_server/.venv/lib/python3.10/site-packages/azure/ai/ml/operations/_operation_orchestrator.py:357\u001b[0m, in \u001b[0;36mOperationOrchestrator._get_model_arm_id\u001b[0;34m(self, model, register_asset)\u001b[0m\n\u001b[1;32m    355\u001b[0m     \u001b[38;5;28;01mraise\u001b[39;00m e\n\u001b[1;32m    356\u001b[0m \u001b[38;5;28;01mexcept\u001b[39;00m \u001b[38;5;167;01mException\u001b[39;00m \u001b[38;5;28;01mas\u001b[39;00m e:\n\u001b[0;32m--> 357\u001b[0m     \u001b[38;5;28;01mraise\u001b[39;00m ModelException(\n\u001b[1;32m    358\u001b[0m         message\u001b[38;5;241m=\u001b[39m\u001b[38;5;124mf\u001b[39m\u001b[38;5;124m\"\u001b[39m\u001b[38;5;124mError with model: \u001b[39m\u001b[38;5;132;01m{\u001b[39;00me\u001b[38;5;132;01m}\u001b[39;00m\u001b[38;5;124m\"\u001b[39m,\n\u001b[1;32m    359\u001b[0m         target\u001b[38;5;241m=\u001b[39mErrorTarget\u001b[38;5;241m.\u001b[39mMODEL,\n\u001b[1;32m    360\u001b[0m         no_personal_data_message\u001b[38;5;241m=\u001b[39m\u001b[38;5;124m\"\u001b[39m\u001b[38;5;124mError getting model\u001b[39m\u001b[38;5;124m\"\u001b[39m,\n\u001b[1;32m    361\u001b[0m         error\u001b[38;5;241m=\u001b[39me,\n\u001b[1;32m    362\u001b[0m         error_category\u001b[38;5;241m=\u001b[39mErrorCategory\u001b[38;5;241m.\u001b[39mSYSTEM_ERROR,\n\u001b[1;32m    363\u001b[0m     ) \u001b[38;5;28;01mfrom\u001b[39;00m \u001b[38;5;21;01me\u001b[39;00m\n",
      "\u001b[0;31mModelException\u001b[0m: Error with model: 'NoneType' object has no attribute 'as_posix'"
     ]
    }
   ],
   "source": [
    "ml_client.begin_create_or_update(blue_deployment)"
   ]
  },
  {
   "cell_type": "code",
   "execution_count": null,
   "metadata": {},
   "outputs": [],
   "source": []
  }
 ],
 "metadata": {
  "kernelspec": {
   "display_name": ".venv",
   "language": "python",
   "name": "python3"
  },
  "language_info": {
   "codemirror_mode": {
    "name": "ipython",
    "version": 3
   },
   "file_extension": ".py",
   "mimetype": "text/x-python",
   "name": "python",
   "nbconvert_exporter": "python",
   "pygments_lexer": "ipython3",
   "version": "3.10.12"
  }
 },
 "nbformat": 4,
 "nbformat_minor": 2
}
